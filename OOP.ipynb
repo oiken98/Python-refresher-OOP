{
 "cells": [
  {
   "cell_type": "code",
   "execution_count": 11,
   "metadata": {},
   "outputs": [],
   "source": [
    "import numpy as np"
   ]
  },
  {
   "cell_type": "markdown",
   "metadata": {},
   "source": [
    "## CLASS POINT "
   ]
  },
  {
   "cell_type": "code",
   "execution_count": 2,
   "metadata": {},
   "outputs": [],
   "source": [
    "class Point:\n",
    "    \n",
    "    def __init__(self, x=0, y=0):\n",
    "        self.x = x\n",
    "        self.y = y\n",
    "        \n",
    "    def __str__(self):\n",
    "        return f'(x : {self.x}; y : {self.y})'\n",
    "    \n",
    "    __repr__ = __str__\n",
    "    \n",
    "    def __eq__(self, other):\n",
    "        return self.x == other.x and self.y == other.y\n",
    "    \n",
    "    def translate(self, dx=1, dy=1):\n",
    "        self.x += dx\n",
    "        self.y += dy\n",
    "        \n",
    "    def distance(self, other):\n",
    "        return np.sqrt((self.x - other.x)**2 + (self.y - other.y)**2)\n",
    "    \n",
    "    def set_location(self, x, y):\n",
    "        self.x = x\n",
    "        self.y = y\n",
    "        \n",
    "    def distance_from_origin(self):\n",
    "        return self.distance(Point(x=0, y=0))"
   ]
  },
  
  {
   "cell_type": "markdown",
   "metadata": {},
   "source": [
    "## CLASS FRACTION "
   ]
  },
  {
   "cell_type": "code",
   "execution_count": 144,
   "metadata": {},
   "outputs": [],
   "source": [
    "class Fraction:\n",
    "    \n",
    "    def __init__(self, a=1, b=1):\n",
    "        gcd = np.gcd(a, b)\n",
    "        self.a = a // gcd\n",
    "        self.b = b // gcd\n",
    "        self.set_repr()\n",
    "    \n",
    "    def set_repr(self):\n",
    "        if self.b == 0:\n",
    "            print('b must be different from 0 !!')\n",
    "            self.b = 1\n",
    "        if np.sign(self.b) == -1:\n",
    "            self.a *= -1\n",
    "            self.b *= -1\n",
    "        \n",
    "    def __str__(self):\n",
    "        return f'{self.a}/{self.b}'\n",
    "    \n",
    "    __repr__ = __str__\n",
    "    \n",
    "    def __pos__(self):\n",
    "        self.a = abs(self.a)\n",
    "        self.b = abs(self.b)\n",
    "    \n",
    "    def __neg__(self):\n",
    "        self.a *= -1\n",
    "    \n",
    "    def add(self, other):\n",
    "        self.a = self.a * other.b + self.b * other.a\n",
    "        self.b = self.b * other.b\n",
    "        \n",
    "    def multiply(self, other):\n",
    "        self.a *= other.a\n",
    "        self.b *= other.b\n",
    "        \n",
    "    def __eq__(self, other):\n",
    "        return self.a == other.a and self.b == other.b\n",
    "    \n",
    "    def __ne__(self, other):\n",
    "        return self.a != other.a or self.b != other.b\n",
    "    \n",
    "    def __truediv__(self, other):\n",
    "        a = self.a * other.b\n",
    "        b = self.b * other.a\n",
    "        return Fraction(a, b)\n",
    "    \n",
    "    def __add__(self, other):\n",
    "        a = self.a * other.b + self.b * other.a\n",
    "        b = self.b * other.b\n",
    "        return Fraction(a, b)\n",
    "        \n",
    "    def __mul__(self, other):\n",
    "        a = self.a * other.a\n",
    "        b = self.b * other.b\n",
    "        return Fraction(a, b)\n",
    "    \n",
    "    def __lt__(self, other):\n",
    "        return (self.a / self.b) < (other.a / other.b)\n",
    "    \n",
    "    def __gt__(self, other):\n",
    "        return (self.a / self.b) > (other.a / other.b)\n",
    "    \n",
    "    def __le__(self, other):\n",
    "        return (self.a / self.b) <= (other.a / other.b)\n",
    "    \n",
    "    def __ge__(self, other):\n",
    "        return (self.a / self.b) >= (other.a / other.b)\n",
    "        \n",
    "        "
   ]
  },
  {
   "cell_type": "code",
   "execution_count": 145,
   "metadata": {},
   "outputs": [],
   "source": [
    "frac = Fraction(a=4, b=12)"
   ]
  },
  {
   "cell_type": "code",
   "execution_count": 146,
   "metadata": {},
   "outputs": [
    {
     "data": {
      "text/plain": [
       "1/3"
      ]
     },
     "execution_count": 146,
     "metadata": {},
     "output_type": "execute_result"
    }
   ],
   "source": [
    "frac"
   ]
  },
  {
   "cell_type": "code",
   "execution_count": 147,
   "metadata": {},
   "outputs": [
    {
     "name": "stdout",
     "output_type": "stream",
     "text": [
      "b must be different from 0 !!\n"
     ]
    }
   ],
   "source": [
    "frac0 = Fraction(a=1, b=0)"
   ]
  },
  {
   "cell_type": "code",
   "execution_count": 148,
   "metadata": {},
   "outputs": [],
   "source": [
    "frac2 = Fraction(a=6, b=-9)"
   ]
  },
  {
   "cell_type": "code",
   "execution_count": 149,
   "metadata": {},
   "outputs": [
    {
     "data": {
      "text/plain": [
       "-2/3"
      ]
     },
     "execution_count": 149,
     "metadata": {},
     "output_type": "execute_result"
    }
   ],
   "source": [
    "frac2"
   ]
  },
  {
   "cell_type": "code",
   "execution_count": 150,
   "metadata": {},
   "outputs": [],
   "source": [
    "frac3 = Fraction(a=-6, b=9)"
   ]
  },
  {
   "cell_type": "code",
   "execution_count": 151,
   "metadata": {},
   "outputs": [
    {
     "data": {
      "text/plain": [
       "-2/3"
      ]
     },
     "execution_count": 151,
     "metadata": {},
     "output_type": "execute_result"
    }
   ],
   "source": [
    "frac3"
   ]
  },
  {
   "cell_type": "code",
   "execution_count": 152,
   "metadata": {},
   "outputs": [
    {
     "data": {
      "text/plain": [
       "True"
      ]
     },
     "execution_count": 152,
     "metadata": {},
     "output_type": "execute_result"
    }
   ],
   "source": [
    "frac2 == frac3"
   ]
  },
  {
   "cell_type": "code",
   "execution_count": 153,
   "metadata": {},
   "outputs": [
    {
     "data": {
      "text/plain": [
       "-1/3"
      ]
     },
     "execution_count": 153,
     "metadata": {},
     "output_type": "execute_result"
    }
   ],
   "source": [
    "frac + frac2"
   ]
  },
  {
   "cell_type": "code",
   "execution_count": 154,
   "metadata": {},
   "outputs": [
    {
     "data": {
      "text/plain": [
       "-2/3"
      ]
     },
     "execution_count": 154,
     "metadata": {},
     "output_type": "execute_result"
    }
   ],
   "source": [
    "frac2"
   ]
  },
  {
   "cell_type": "code",
   "execution_count": 155,
   "metadata": {},
   "outputs": [
    {
     "data": {
      "text/plain": [
       "4/9"
      ]
     },
     "execution_count": 155,
     "metadata": {},
     "output_type": "execute_result"
    }
   ],
   "source": [
    "frac2 * frac3"
   ]
  },
  {
   "cell_type": "code",
   "execution_count": 156,
   "metadata": {},
   "outputs": [
    {
     "data": {
      "text/plain": [
       "-2/3"
      ]
     },
     "execution_count": 156,
     "metadata": {},
     "output_type": "execute_result"
    }
   ],
   "source": [
    "frac2"
   ]
  },
  {
   "cell_type": "code",
   "execution_count": 157,
   "metadata": {},
   "outputs": [],
   "source": [
    "-frac2"
   ]
  },
  {
   "cell_type": "code",
   "execution_count": 158,
   "metadata": {},
   "outputs": [
    {
     "data": {
      "text/plain": [
       "2/3"
      ]
     },
     "execution_count": 158,
     "metadata": {},
     "output_type": "execute_result"
    }
   ],
   "source": [
    "frac2"
   ]
  },
  {
   "cell_type": "code",
   "execution_count": null,
   "metadata": {},
   "outputs": [],
   "source": []
  }
 ],
 "metadata": {
  "kernelspec": {
   "display_name": "Python 3",
   "language": "python",
   "name": "python3"
  },
  "language_info": {
   "codemirror_mode": {
    "name": "ipython",
    "version": 3
   },
   "file_extension": ".py",
   "mimetype": "text/x-python",
   "name": "python",
   "nbconvert_exporter": "python",
   "pygments_lexer": "ipython3",
   "version": "3.7.6"
  }
 },
 "nbformat": 4,
 "nbformat_minor": 4
}
